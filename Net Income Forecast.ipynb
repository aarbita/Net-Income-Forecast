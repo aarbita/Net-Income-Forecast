{
 "cells": [
  {
   "cell_type": "markdown",
   "metadata": {},
   "source": [
    "# Net Income Forecast Model"
   ]
  },
  {
   "cell_type": "markdown",
   "metadata": {},
   "source": [
    "### Import Packages"
   ]
  },
  {
   "cell_type": "code",
   "execution_count": 1,
   "metadata": {},
   "outputs": [],
   "source": [
    "import numpy as np\n",
    "import matplotlib.pyplot as plt"
   ]
  },
  {
   "cell_type": "markdown",
   "metadata": {},
   "source": [
    "### Distributions - Assumptions"
   ]
  },
  {
   "cell_type": "code",
   "execution_count": 2,
   "metadata": {},
   "outputs": [],
   "source": [
    "# Create variables for assumptions \n",
    "sales_mean = 50\n",
    "sales_std = 5\n",
    "COGS_mean = 0.15\n",
    "COGS_std = 0.1"
   ]
  },
  {
   "cell_type": "markdown",
   "metadata": {},
   "source": [
    "### Simulations - Simulate Sales, COGS, and Net Income"
   ]
  },
  {
   "cell_type": "code",
   "execution_count": 5,
   "metadata": {},
   "outputs": [
    {
     "name": "stdout",
     "output_type": "stream",
     "text": [
      "[42.34947841 50.06474252 41.41410154 ... 50.2463144  45.37850402\n",
      " 48.61980656]\n",
      "mean: 49.96921026484788\n",
      "std: 4.987704337884861\n"
     ]
    }
   ],
   "source": [
    "# Generate sales samples \n",
    "simulations = 10000\n",
    "sales_sims = np.random.normal(sales_mean, sales_std, simulations)\n",
    "\n",
    "print(sales_sims)\n",
    "print(\"mean:\", np.mean(sales_sims))\n",
    "print(\"std:\", np.std(sales_sims))"
   ]
  },
  {
   "cell_type": "code",
   "execution_count": 6,
   "metadata": {},
   "outputs": [],
   "source": [
    "# Generate COGS samples\n",
    "COGS_sims =- (sales_sims * np.random.normal(COGS_mean, COGS_std))\n",
    "\n",
    "# Generate net income simulations\n",
    "profit_sims = sales_sims + COGS_sims"
   ]
  },
  {
   "cell_type": "markdown",
   "metadata": {},
   "source": [
    "### Quantifications - Examine the Worst, Average, Best scenarios and the Probability Distribution"
   ]
  },
  {
   "cell_type": "code",
   "execution_count": 7,
   "metadata": {},
   "outputs": [
    {
     "name": "stdout",
     "output_type": "stream",
     "text": [
      "Wors case: 27.209139288608057\n",
      "Average case: 42.97339788693531\n",
      "Best case: 59.73643553545218\n"
     ]
    }
   ],
   "source": [
    "# Examine the worst, average, and best cases\n",
    "print(\"Wors case:\", min(profit_sims))\n",
    "print(\"Average case:\", profit_sims.mean())\n",
    "print(\"Best case:\", max(profit_sims))"
   ]
  },
  {
   "cell_type": "code",
   "execution_count": 11,
   "metadata": {},
   "outputs": [
    {
     "data": {
      "image/png": "[encoded data removed]",
      "text/plain": [
       "<Figure size 640x480 with 1 Axes>"
      ]
     },
     "metadata": {},
     "output_type": "display_data"
    },
    {
     "name": "stdout",
     "output_type": "stream",
     "text": [
      "68% profit range: $38.68 and $47.26\n",
      "95% profit range: $34.39 and $51.55\n"
     ]
    }
   ],
   "source": [
    "# Set up confidence intervals\n",
    "upper68 = profit_sims.mean()+profit_sims.std()\n",
    "lower68 = profit_sims.mean()-profit_sims.std()\n",
    "upper95 = profit_sims.mean()+profit_sims.std()*2\n",
    "lower95 = profit_sims.mean()-profit_sims.std()*2\n",
    "\n",
    "# Plot the probability distribution\n",
    "plt.hist(profit_sims, bins = 20);\n",
    "plt.axvline(upper68, color = 'k', linestyle='dashed', linewidth=1)\n",
    "plt.axvline(lower68, color = 'k', linestyle='dashed', linewidth=1)\n",
    "plt.axvline(upper95, color = 'k', linestyle='dashed', linewidth=1)\n",
    "plt.axvline(lower95, color = 'k', linestyle='dashed', linewidth=1)\n",
    "plt.show()\n",
    "\n",
    "# Print out confidence intervals\n",
    "print(f\"68% profit range: ${round(lower68,2)} and ${round(upper68,2)}\")\n",
    "print(f\"95% profit range: ${round(lower95,2)} and ${round(upper95,2)}\")"
   ]
  },
  {
   "cell_type": "code",
   "execution_count": null,
   "metadata": {},
   "outputs": [],
   "source": []
  }
 ],
 "metadata": {
  "kernelspec": {
   "display_name": "Python 3 (ipykernel)",
   "language": "python",
   "name": "python3"
  },
  "language_info": {
   "codemirror_mode": {
    "name": "ipython",
    "version": 3
   },
   "file_extension": ".py",
   "mimetype": "text/x-python",
   "name": "python",
   "nbconvert_exporter": "python",
   "pygments_lexer": "ipython3",
   "version": "3.13.2"
  }
 },
 "nbformat": 4,
 "nbformat_minor": 4
}
